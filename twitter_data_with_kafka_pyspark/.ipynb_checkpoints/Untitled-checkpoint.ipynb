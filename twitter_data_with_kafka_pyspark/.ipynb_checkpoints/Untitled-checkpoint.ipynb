{
 "cells": [
  {
   "cell_type": "code",
   "execution_count": 1,
   "id": "f5237bb1",
   "metadata": {},
   "outputs": [],
   "source": [
    "from pyspark.sql.types import StructType, StringType, StructField, DateType, ArrayType, MapType\n",
    "from pyspark.sql import SparkSession\n",
    "from pyspark.sql.functions import explode, split, window\n",
    "from pyspark.sql.functions import *\n",
    "from bson.json_util import *\n",
    "\n",
    "import matplotlib.pyplot as plt"
   ]
  },
  {
   "cell_type": "code",
   "execution_count": 2,
   "id": "829623ed",
   "metadata": {},
   "outputs": [],
   "source": [
    "kafka_topic_name = \"trump\"\n",
    "kafka_bootstrap_servers = \"localhost:9092\"\n",
    "nestTimestampFormat = \"yyyy-MM-dd'T'HH:mm:ss.sss'Z'\"\n",
    "jsonOptions = { \"timestampFormat\": nestTimestampFormat }"
   ]
  },
  {
   "cell_type": "code",
   "execution_count": 3,
   "id": "9edc4af4",
   "metadata": {},
   "outputs": [
    {
     "name": "stderr",
     "output_type": "stream",
     "text": [
      "22/01/13 22:09:20 WARN Utils: Your hostname, EMPID21092 resolves to a loopback address: 127.0.1.1; using 192.168.1.6 instead (on interface wlp3s0)\n",
      "22/01/13 22:09:20 WARN Utils: Set SPARK_LOCAL_IP if you need to bind to another address\n",
      "WARNING: An illegal reflective access operation has occurred\n",
      "WARNING: Illegal reflective access by org.apache.spark.unsafe.Platform (file:/opt/spark/jars/spark-unsafe_2.12-3.2.0.jar) to constructor java.nio.DirectByteBuffer(long,int)\n",
      "WARNING: Please consider reporting this to the maintainers of org.apache.spark.unsafe.Platform\n",
      "WARNING: Use --illegal-access=warn to enable warnings of further illegal reflective access operations\n",
      "WARNING: All illegal access operations will be denied in a future release\n"
     ]
    },
    {
     "name": "stdout",
     "output_type": "stream",
     "text": [
      ":: loading settings :: url = jar:file:/opt/spark/jars/ivy-2.5.0.jar!/org/apache/ivy/core/settings/ivysettings.xml\n"
     ]
    },
    {
     "name": "stderr",
     "output_type": "stream",
     "text": [
      "Ivy Default Cache set to: /home/rita/.ivy2/cache\n",
      "The jars for the packages stored in: /home/rita/.ivy2/jars\n",
      "org.apache.spark#spark-sql-kafka-0-10_2.12 added as a dependency\n",
      ":: resolving dependencies :: org.apache.spark#spark-submit-parent-1130a91b-88df-4e02-939d-ee48e36ba1e4;1.0\n",
      "\tconfs: [default]\n",
      "\tfound org.apache.spark#spark-sql-kafka-0-10_2.12;3.2.0 in central\n",
      "\tfound org.apache.spark#spark-token-provider-kafka-0-10_2.12;3.2.0 in central\n",
      "\tfound org.apache.kafka#kafka-clients;2.8.0 in central\n",
      "\tfound org.lz4#lz4-java;1.7.1 in central\n",
      "\tfound org.xerial.snappy#snappy-java;1.1.8.4 in central\n",
      "\tfound org.slf4j#slf4j-api;1.7.30 in central\n",
      "\tfound org.apache.hadoop#hadoop-client-runtime;3.3.1 in central\n",
      "\tfound org.spark-project.spark#unused;1.0.0 in central\n",
      "\tfound org.apache.hadoop#hadoop-client-api;3.3.1 in central\n",
      "\tfound org.apache.htrace#htrace-core4;4.1.0-incubating in central\n",
      "\tfound commons-logging#commons-logging;1.1.3 in local-m2-cache\n",
      "\tfound com.google.code.findbugs#jsr305;3.0.0 in central\n",
      "\tfound org.apache.commons#commons-pool2;2.6.2 in central\n",
      ":: resolution report :: resolve 619ms :: artifacts dl 14ms\n",
      "\t:: modules in use:\n",
      "\tcom.google.code.findbugs#jsr305;3.0.0 from central in [default]\n",
      "\tcommons-logging#commons-logging;1.1.3 from local-m2-cache in [default]\n",
      "\torg.apache.commons#commons-pool2;2.6.2 from central in [default]\n",
      "\torg.apache.hadoop#hadoop-client-api;3.3.1 from central in [default]\n",
      "\torg.apache.hadoop#hadoop-client-runtime;3.3.1 from central in [default]\n",
      "\torg.apache.htrace#htrace-core4;4.1.0-incubating from central in [default]\n",
      "\torg.apache.kafka#kafka-clients;2.8.0 from central in [default]\n",
      "\torg.apache.spark#spark-sql-kafka-0-10_2.12;3.2.0 from central in [default]\n",
      "\torg.apache.spark#spark-token-provider-kafka-0-10_2.12;3.2.0 from central in [default]\n",
      "\torg.lz4#lz4-java;1.7.1 from central in [default]\n",
      "\torg.slf4j#slf4j-api;1.7.30 from central in [default]\n",
      "\torg.spark-project.spark#unused;1.0.0 from central in [default]\n",
      "\torg.xerial.snappy#snappy-java;1.1.8.4 from central in [default]\n",
      "\t---------------------------------------------------------------------\n",
      "\t|                  |            modules            ||   artifacts   |\n",
      "\t|       conf       | number| search|dwnlded|evicted|| number|dwnlded|\n",
      "\t---------------------------------------------------------------------\n",
      "\t|      default     |   13  |   0   |   0   |   0   ||   13  |   0   |\n",
      "\t---------------------------------------------------------------------\n",
      ":: retrieving :: org.apache.spark#spark-submit-parent-1130a91b-88df-4e02-939d-ee48e36ba1e4\n",
      "\tconfs: [default]\n",
      "\t0 artifacts copied, 13 already retrieved (0kB/9ms)\n",
      "22/01/13 22:09:21 WARN NativeCodeLoader: Unable to load native-hadoop library for your platform... using builtin-java classes where applicable\n",
      "Using Spark's default log4j profile: org/apache/spark/log4j-defaults.properties\n",
      "Setting default log level to \"WARN\".\n",
      "To adjust logging level use sc.setLogLevel(newLevel). For SparkR, use setLogLevel(newLevel).\n"
     ]
    }
   ],
   "source": [
    "sparkSession = SparkSession \\\n",
    "        .builder \\\n",
    "        .appName(\"TwitterStreamingAssignment\") \\\n",
    "        .master(\"local\") \\\n",
    "        .config(\"spark.jars.packages\", \"org.apache.spark:spark-sql-kafka-0-10_2.12:3.2.0\") \\\n",
    "        .getOrCreate()\n",
    "        \n",
    "sparkSession.sparkContext.setLogLevel(\"ERROR\")"
   ]
  },
  {
   "cell_type": "code",
   "execution_count": 12,
   "id": "bcd7859c",
   "metadata": {},
   "outputs": [],
   "source": [
    "schema = StructType() \\\n",
    "    .add(\"Created_date\", DateType()) \\\n",
    "        .add(\"Username\", StringType()) \\\n",
    "            .add(\"User_location\", StringType())\\\n",
    "                .add(\"Hashtags\", StringType()) \\\n",
    "                    .add(\"Text\", StringType())    "
   ]
  },
  {
   "cell_type": "code",
   "execution_count": null,
   "id": "3778a00b",
   "metadata": {},
   "outputs": [],
   "source": [
    "posts_df = sparkSession.readStream \\\n",
    "    .format(\"kafka\") \\\n",
    "    .option(\"kafka.bootstrap.servers\", \"localhost:9092\") \\\n",
    "    .option(\"subscribe\", \"trump\") \\\n",
    "    .option(\"startingOffsets\", \"earliest\") \\\n",
    "    .load()\\\n",
    "    .select(from_json(col(\"value\").cast(\"string\"), schema, jsonOptions).alias(\"parsed_value\"), col(\"timestamp\").cast(\"string\").alias(\"time_stamp\"))"
   ]
  },
  {
   "cell_type": "code",
   "execution_count": null,
   "id": "6462eca7",
   "metadata": {},
   "outputs": [],
   "source": [
    "posts_df_df.printSchema()"
   ]
  },
  {
   "cell_type": "code",
   "execution_count": 6,
   "id": "6af306b7",
   "metadata": {},
   "outputs": [
    {
     "data": {
      "text/plain": [
       "False"
      ]
     },
     "execution_count": 6,
     "metadata": {},
     "output_type": "execute_result"
    }
   ],
   "source": [
    "col_stream = posts_df.writeStream.trigger(processingTime='5 seconds')\\\n",
    ".outputMode('update')\\\n",
    "    .option(\"truncate\", \"false\")\\\n",
    "        .option(\"checkpointLocation\", \"./col_stream\")\\\n",
    "            .format(\"console\")\\\n",
    "                .start()\n",
    "\n",
    "col_stream.awaitTermination(1)"
   ]
  },
  {
   "cell_type": "code",
   "execution_count": 10,
   "id": "0a89117c",
   "metadata": {},
   "outputs": [
    {
     "name": "stdout",
     "output_type": "stream",
     "text": [
      "-------------------------------------------\n",
      "Batch: 24\n",
      "-------------------------------------------\n",
      "+----------------------------------------------------------------------------------------------------------------------------------------------------------------------------------+-----------------------+\n",
      "|parsed_value                                                                                                                                                                      |time_stamp             |\n",
      "+----------------------------------------------------------------------------------------------------------------------------------------------------------------------------------+-----------------------+\n",
      "|{2022-01-13, ReneeArnett, Resisting fascism., ['Omicron'], RT @DrEricDing: Mild? Not much. Data show that 4.5% of those who are infected with the #Omicron vari}                  |2022-01-13 22:10:25.978|\n",
      "|{2022-01-13, BrianAmadio, Bay Area, CA, ['Omicron'], RT @DrDooleyMD: If you want an accurate rapid COVID test result for #Omicron please swab your throat}                        |2022-01-13 22:10:25.978|\n",
      "|{2022-01-13, lalolola294, , ['Véran', 'COVID19'], RT @Mediavenir: 🇫🇷 ALERTE INFO - Le ministre de la Santé Olivier #Véran a été testé positif à la #CO}                         |2022-01-13 22:10:25.978|\n",
      "|{2022-01-13, Jose_miami_, Miami, ['Omicron'], RT @DiloConPerritos: Así las cosas con #Omicron https://t.co/IuS10CtZVz}                                                            |2022-01-13 22:10:25.978|\n",
      "|{2022-01-13, revraygreen, Des Moines, Iowa , [], RT @MimiTexasAngel: Glenn Beck ~ Natural Immunity does not work\\nThat's why some of us took the Vacci}                           |2022-01-13 22:10:25.979|\n",
      "|{2022-01-13, TheSaigonBabe, She / Her, They / Them, ['Omicron', 'RapidTests'], I was sick 😷 Not sure what the C and T stands for 😅 #Omicron #RapidTests https://t.co/EF71wo3PQ3}|2022-01-13 22:10:25.979|\n",
      "|{2022-01-13, GoodNewsToday, Noida, India, [], कोरोना के केस बढ़ने से चिंता बढ़ी, ओमिक्रॉन संक्रमित होने पर क्या करें? देखिए @k_navjyot के साथ इस र}                               |2022-01-13 22:10:25.979|\n",
      "|{2022-01-13, Datta_karan, New Delhi , ['China'], RT @abhijitmajumder: Either #China is anticipating counter-biological strikes by western agencies, o}                            |2022-01-13 22:10:25.979|\n",
      "|{2022-01-13, Slassian__, , ['COVID19'], RT @GHS: A pandemic update from @DrTedros:\\n\\nLast week, over 15 million new #COVID19 cases were repor}                                   |2022-01-13 22:10:25.979|\n",
      "|{2022-01-13, Kemiour, , [], RT @ChristelledMely: Christian Estrosi (@cestrosi) se dit favorable à ce que les non-vaccinés soient}                                                 |2022-01-13 22:10:25.979|\n",
      "|{2022-01-13, prashanth_pgr, , [], RT @mla_sudhakar: Hospitalisation rate in the 3rd wave is lower than 2nd wave as of now. That is no }                                           |2022-01-13 22:10:25.979|\n",
      "|{2022-01-13, gnimie, Virginia, USA, [], RT @B52Malmet: \"Today, I'm directing my team to procure an additional 500 million more tests to dist}                                     |2022-01-13 22:10:25.979|\n",
      "|{2022-01-13, ChinaDaily, Beijing, China, ['US', 'Omicron'], The COVID-19 pandemic has triggered a mental health crisis on #US campuses and the inroads made by t}                 |2022-01-13 22:10:25.979|\n",
      "|{2022-01-13, Venu55750596, Bengalouer, [], RT @mla_sudhakar: Hospitalisation rate in the 3rd wave is lower than 2nd wave as of now. That is no }                                  |2022-01-13 22:10:25.979|\n",
      "|{2022-01-13, ttnngx, ᴊᴀᴇᴛᴇɴᴅᴏ ᴡᴛ ᴛᴛ ɴᴏʀᴇɴᴊᴀᴍ, [], RT @pokrath: ประสิทธิผลการป้องกันอาการปานกลางถึงรุนแรงประสิทธิผลของวัคซีน 3 เข็มยังคงดีอยู่ถึง 10 สั}                           |2022-01-13 22:10:25.979|\n",
      "+----------------------------------------------------------------------------------------------------------------------------------------------------------------------------------+-----------------------+\n",
      "\n"
     ]
    }
   ],
   "source": [
    "hashtags_location = posts_df.select('parsed_value.Hashtags', 'parsed_value.User_location','time_stamp') \\\n",
    "    .filter(col(\"Hashtags\") != \"[]\").filter(col(\"Hashtags\").contains('Omicron'))"
   ]
  },
  {
   "cell_type": "code",
   "execution_count": 11,
   "id": "ad319072",
   "metadata": {},
   "outputs": [
    {
     "name": "stderr",
     "output_type": "stream",
     "text": [
      "                                                                                \r"
     ]
    },
    {
     "name": "stdout",
     "output_type": "stream",
     "text": [
      "-------------------------------------------\n",
      "Batch: 0\n",
      "-------------------------------------------\n",
      "+---------------------------------------------------+----------------------+\n",
      "|Hashtags                                           |User_location         |\n",
      "+---------------------------------------------------+----------------------+\n",
      "|['AndhraPradesh', 'OmicronVarient']                |Vijayawada            |\n",
      "|['BeSafe', 'BeResponsible', 'WearAMask', 'Omicron']|                      |\n",
      "|['OPSC', 'Covid19', 'Omicron']                     |                      |\n",
      "|['AndhraPradesh', 'OmicronVarient']                |Vijayawada            |\n",
      "|['BeSafe', 'BeResponsible', 'WearAMask', 'Omicron']|                      |\n",
      "|['OPSC', 'Covid19', 'Omicron']                     |                      |\n",
      "|['AndhraPradesh', 'OmicronVarient']                |Vijayawada            |\n",
      "|['BeSafe', 'BeResponsible', 'WearAMask', 'Omicron']|                      |\n",
      "|['OPSC', 'Covid19', 'Omicron']                     |                      |\n",
      "|['Omicron']                                        |Bordeaux, France      |\n",
      "|['OPSC', 'Covid19', 'Omicron']                     |                      |\n",
      "|['Omicron']                                        |Bordeaux, France      |\n",
      "|['OPSC', 'Covid19', 'Omicron']                     |                      |\n",
      "|['Omicron']                                        |Bordeaux, France      |\n",
      "|['OPSC', 'Covid19', 'Omicron']                     |                      |\n",
      "|['Omicron']                                        |Del lejano oeste.     |\n",
      "|['Omicron']                                        |Bogotá, D.C., Colombia|\n",
      "|['Omicron']                                        |Del lejano oeste.     |\n",
      "|['Omicron']                                        |Bogotá, D.C., Colombia|\n",
      "|['Omicron']                                        |Del lejano oeste.     |\n",
      "+---------------------------------------------------+----------------------+\n",
      "only showing top 20 rows\n",
      "\n",
      "-------------------------------------------\n",
      "Batch: 25\n",
      "-------------------------------------------\n",
      "-------------------------------------------\n",
      "Batch: 1\n",
      "-------------------------------------------\n",
      "+----------------------------------------------------------------------------------------------------------------------------------------------------------------------------------+-----------------------+\n",
      "|parsed_value                                                                                                                                                                      |time_stamp             |\n",
      "+----------------------------------------------------------------------------------------------------------------------------------------------------------------------------------+-----------------------+\n",
      "|{2022-01-13, ReneeArnett, Resisting fascism., ['Omicron'], RT @DrEricDing: Mild? Not much. Data show that 4.5% of those who are infected with the #Omicron vari}                  |2022-01-13 22:10:32.666|\n",
      "|{2022-01-13, BrianAmadio, Bay Area, CA, ['Omicron'], RT @DrDooleyMD: If you want an accurate rapid COVID test result for #Omicron please swab your throat}                        |2022-01-13 22:10:32.666|\n",
      "|{2022-01-13, lalolola294, , ['Véran', 'COVID19'], RT @Mediavenir: 🇫🇷 ALERTE INFO - Le ministre de la Santé Olivier #Véran a été testé positif à la #CO}                         |2022-01-13 22:10:32.666|\n",
      "|{2022-01-13, Jose_miami_, Miami, ['Omicron'], RT @DiloConPerritos: Así las cosas con #Omicron https://t.co/IuS10CtZVz}                                                            |2022-01-13 22:10:32.666|\n",
      "|{2022-01-13, revraygreen, Des Moines, Iowa , [], RT @MimiTexasAngel: Glenn Beck ~ Natural Immunity does not work\\nThat's why some of us took the Vacci}                           |2022-01-13 22:10:32.667|\n",
      "|{2022-01-13, TheSaigonBabe, She / Her, They / Them, ['Omicron', 'RapidTests'], I was sick 😷 Not sure what the C and T stands for 😅 #Omicron #RapidTests https://t.co/EF71wo3PQ3}|2022-01-13 22:10:32.667|\n",
      "|{2022-01-13, GoodNewsToday, Noida, India, [], कोरोना के केस बढ़ने से चिंता बढ़ी, ओमिक्रॉन संक्रमित होने पर क्या करें? देखिए @k_navjyot के साथ इस र}                               |2022-01-13 22:10:32.667|\n",
      "|{2022-01-13, Datta_karan, New Delhi , ['China'], RT @abhijitmajumder: Either #China is anticipating counter-biological strikes by western agencies, o}                            |2022-01-13 22:10:32.667|\n",
      "|{2022-01-13, Slassian__, , ['COVID19'], RT @GHS: A pandemic update from @DrTedros:\\n\\nLast week, over 15 million new #COVID19 cases were repor}                                   |2022-01-13 22:10:32.667|\n",
      "|{2022-01-13, Kemiour, , [], RT @ChristelledMely: Christian Estrosi (@cestrosi) se dit favorable à ce que les non-vaccinés soient}                                                 |2022-01-13 22:10:32.667|\n",
      "|{2022-01-13, prashanth_pgr, , [], RT @mla_sudhakar: Hospitalisation rate in the 3rd wave is lower than 2nd wave as of now. That is no }                                           |2022-01-13 22:10:32.667|\n",
      "|{2022-01-13, gnimie, Virginia, USA, [], RT @B52Malmet: \"Today, I'm directing my team to procure an additional 500 million more tests to dist}                                     |2022-01-13 22:10:32.667|\n",
      "|{2022-01-13, ChinaDaily, Beijing, China, ['US', 'Omicron'], The COVID-19 pandemic has triggered a mental health crisis on #US campuses and the inroads made by t}                 |2022-01-13 22:10:32.667|\n",
      "|{2022-01-13, Venu55750596, Bengalouer, [], RT @mla_sudhakar: Hospitalisation rate in the 3rd wave is lower than 2nd wave as of now. That is no }                                  |2022-01-13 22:10:32.667|\n",
      "|{2022-01-13, ttnngx, ᴊᴀᴇᴛᴇɴᴅᴏ ᴡᴛ ᴛᴛ ɴᴏʀᴇɴᴊᴀᴍ, [], RT @pokrath: ประสิทธิผลการป้องกันอาการปานกลางถึงรุนแรงประสิทธิผลของวัคซีน 3 เข็มยังคงดีอยู่ถึง 10 สั}                           |2022-01-13 22:10:32.667|\n",
      "+----------------------------------------------------------------------------------------------------------------------------------------------------------------------------------+-----------------------+\n",
      "\n",
      "+-------------------------+----------------------+\n",
      "|Hashtags                 |User_location         |\n",
      "+-------------------------+----------------------+\n",
      "|['Omicron']              |Resisting fascism.    |\n",
      "|['Omicron']              |Bay Area, CA          |\n",
      "|['Omicron']              |Miami                 |\n",
      "|['Omicron', 'RapidTests']|She / Her, They / Them|\n",
      "|['US', 'Omicron']        |Beijing, China        |\n",
      "+-------------------------+----------------------+\n",
      "\n",
      "-------------------------------------------\n",
      "Batch: 26\n",
      "-------------------------------------------\n"
     ]
    },
    {
     "name": "stderr",
     "output_type": "stream",
     "text": [
      "                                                                                \r"
     ]
    },
    {
     "ename": "KeyboardInterrupt",
     "evalue": "",
     "output_type": "error",
     "traceback": [
      "\u001b[0;31m---------------------------------------------------------------------------\u001b[0m",
      "\u001b[0;31mKeyboardInterrupt\u001b[0m                         Traceback (most recent call last)",
      "\u001b[0;32m/tmp/ipykernel_1141479/2047842975.py\u001b[0m in \u001b[0;36m<module>\u001b[0;34m\u001b[0m\n\u001b[1;32m      6\u001b[0m                 \u001b[0;34m.\u001b[0m\u001b[0mstart\u001b[0m\u001b[0;34m(\u001b[0m\u001b[0;34m)\u001b[0m\u001b[0;34m\u001b[0m\u001b[0;34m\u001b[0m\u001b[0m\n\u001b[1;32m      7\u001b[0m \u001b[0;34m\u001b[0m\u001b[0m\n\u001b[0;32m----> 8\u001b[0;31m \u001b[0mhashtags_count_location\u001b[0m\u001b[0;34m.\u001b[0m\u001b[0mawaitTermination\u001b[0m\u001b[0;34m(\u001b[0m\u001b[0;34m)\u001b[0m\u001b[0;34m\u001b[0m\u001b[0;34m\u001b[0m\u001b[0m\n\u001b[0m",
      "\u001b[0;32m~/anaconda3/lib/python3.9/site-packages/pyspark/sql/streaming.py\u001b[0m in \u001b[0;36mawaitTermination\u001b[0;34m(self, timeout)\u001b[0m\n\u001b[1;32m     99\u001b[0m             \u001b[0;32mreturn\u001b[0m \u001b[0mself\u001b[0m\u001b[0;34m.\u001b[0m\u001b[0m_jsq\u001b[0m\u001b[0;34m.\u001b[0m\u001b[0mawaitTermination\u001b[0m\u001b[0;34m(\u001b[0m\u001b[0mint\u001b[0m\u001b[0;34m(\u001b[0m\u001b[0mtimeout\u001b[0m \u001b[0;34m*\u001b[0m \u001b[0;36m1000\u001b[0m\u001b[0;34m)\u001b[0m\u001b[0;34m)\u001b[0m\u001b[0;34m\u001b[0m\u001b[0;34m\u001b[0m\u001b[0m\n\u001b[1;32m    100\u001b[0m         \u001b[0;32melse\u001b[0m\u001b[0;34m:\u001b[0m\u001b[0;34m\u001b[0m\u001b[0;34m\u001b[0m\u001b[0m\n\u001b[0;32m--> 101\u001b[0;31m             \u001b[0;32mreturn\u001b[0m \u001b[0mself\u001b[0m\u001b[0;34m.\u001b[0m\u001b[0m_jsq\u001b[0m\u001b[0;34m.\u001b[0m\u001b[0mawaitTermination\u001b[0m\u001b[0;34m(\u001b[0m\u001b[0;34m)\u001b[0m\u001b[0;34m\u001b[0m\u001b[0;34m\u001b[0m\u001b[0m\n\u001b[0m\u001b[1;32m    102\u001b[0m \u001b[0;34m\u001b[0m\u001b[0m\n\u001b[1;32m    103\u001b[0m     \u001b[0;34m@\u001b[0m\u001b[0mproperty\u001b[0m\u001b[0;34m\u001b[0m\u001b[0;34m\u001b[0m\u001b[0m\n",
      "\u001b[0;32m~/anaconda3/lib/python3.9/site-packages/py4j/java_gateway.py\u001b[0m in \u001b[0;36m__call__\u001b[0;34m(self, *args)\u001b[0m\n\u001b[1;32m   1306\u001b[0m             \u001b[0mproto\u001b[0m\u001b[0;34m.\u001b[0m\u001b[0mEND_COMMAND_PART\u001b[0m\u001b[0;34m\u001b[0m\u001b[0;34m\u001b[0m\u001b[0m\n\u001b[1;32m   1307\u001b[0m \u001b[0;34m\u001b[0m\u001b[0m\n\u001b[0;32m-> 1308\u001b[0;31m         \u001b[0manswer\u001b[0m \u001b[0;34m=\u001b[0m \u001b[0mself\u001b[0m\u001b[0;34m.\u001b[0m\u001b[0mgateway_client\u001b[0m\u001b[0;34m.\u001b[0m\u001b[0msend_command\u001b[0m\u001b[0;34m(\u001b[0m\u001b[0mcommand\u001b[0m\u001b[0;34m)\u001b[0m\u001b[0;34m\u001b[0m\u001b[0;34m\u001b[0m\u001b[0m\n\u001b[0m\u001b[1;32m   1309\u001b[0m         return_value = get_return_value(\n\u001b[1;32m   1310\u001b[0m             answer, self.gateway_client, self.target_id, self.name)\n",
      "\u001b[0;32m~/anaconda3/lib/python3.9/site-packages/py4j/java_gateway.py\u001b[0m in \u001b[0;36msend_command\u001b[0;34m(self, command, retry, binary)\u001b[0m\n\u001b[1;32m   1036\u001b[0m         \u001b[0mconnection\u001b[0m \u001b[0;34m=\u001b[0m \u001b[0mself\u001b[0m\u001b[0;34m.\u001b[0m\u001b[0m_get_connection\u001b[0m\u001b[0;34m(\u001b[0m\u001b[0;34m)\u001b[0m\u001b[0;34m\u001b[0m\u001b[0;34m\u001b[0m\u001b[0m\n\u001b[1;32m   1037\u001b[0m         \u001b[0;32mtry\u001b[0m\u001b[0;34m:\u001b[0m\u001b[0;34m\u001b[0m\u001b[0;34m\u001b[0m\u001b[0m\n\u001b[0;32m-> 1038\u001b[0;31m             \u001b[0mresponse\u001b[0m \u001b[0;34m=\u001b[0m \u001b[0mconnection\u001b[0m\u001b[0;34m.\u001b[0m\u001b[0msend_command\u001b[0m\u001b[0;34m(\u001b[0m\u001b[0mcommand\u001b[0m\u001b[0;34m)\u001b[0m\u001b[0;34m\u001b[0m\u001b[0;34m\u001b[0m\u001b[0m\n\u001b[0m\u001b[1;32m   1039\u001b[0m             \u001b[0;32mif\u001b[0m \u001b[0mbinary\u001b[0m\u001b[0;34m:\u001b[0m\u001b[0;34m\u001b[0m\u001b[0;34m\u001b[0m\u001b[0m\n\u001b[1;32m   1040\u001b[0m                 \u001b[0;32mreturn\u001b[0m \u001b[0mresponse\u001b[0m\u001b[0;34m,\u001b[0m \u001b[0mself\u001b[0m\u001b[0;34m.\u001b[0m\u001b[0m_create_connection_guard\u001b[0m\u001b[0;34m(\u001b[0m\u001b[0mconnection\u001b[0m\u001b[0;34m)\u001b[0m\u001b[0;34m\u001b[0m\u001b[0;34m\u001b[0m\u001b[0m\n",
      "\u001b[0;32m~/anaconda3/lib/python3.9/site-packages/py4j/clientserver.py\u001b[0m in \u001b[0;36msend_command\u001b[0;34m(self, command)\u001b[0m\n\u001b[1;32m    473\u001b[0m         \u001b[0;32mtry\u001b[0m\u001b[0;34m:\u001b[0m\u001b[0;34m\u001b[0m\u001b[0;34m\u001b[0m\u001b[0m\n\u001b[1;32m    474\u001b[0m             \u001b[0;32mwhile\u001b[0m \u001b[0;32mTrue\u001b[0m\u001b[0;34m:\u001b[0m\u001b[0;34m\u001b[0m\u001b[0;34m\u001b[0m\u001b[0m\n\u001b[0;32m--> 475\u001b[0;31m                 \u001b[0manswer\u001b[0m \u001b[0;34m=\u001b[0m \u001b[0msmart_decode\u001b[0m\u001b[0;34m(\u001b[0m\u001b[0mself\u001b[0m\u001b[0;34m.\u001b[0m\u001b[0mstream\u001b[0m\u001b[0;34m.\u001b[0m\u001b[0mreadline\u001b[0m\u001b[0;34m(\u001b[0m\u001b[0;34m)\u001b[0m\u001b[0;34m[\u001b[0m\u001b[0;34m:\u001b[0m\u001b[0;34m-\u001b[0m\u001b[0;36m1\u001b[0m\u001b[0;34m]\u001b[0m\u001b[0;34m)\u001b[0m\u001b[0;34m\u001b[0m\u001b[0;34m\u001b[0m\u001b[0m\n\u001b[0m\u001b[1;32m    476\u001b[0m                 \u001b[0mlogger\u001b[0m\u001b[0;34m.\u001b[0m\u001b[0mdebug\u001b[0m\u001b[0;34m(\u001b[0m\u001b[0;34m\"Answer received: {0}\"\u001b[0m\u001b[0;34m.\u001b[0m\u001b[0mformat\u001b[0m\u001b[0;34m(\u001b[0m\u001b[0manswer\u001b[0m\u001b[0;34m)\u001b[0m\u001b[0;34m)\u001b[0m\u001b[0;34m\u001b[0m\u001b[0;34m\u001b[0m\u001b[0m\n\u001b[1;32m    477\u001b[0m                 \u001b[0;31m# Happens when a the other end is dead. There might be an empty\u001b[0m\u001b[0;34m\u001b[0m\u001b[0;34m\u001b[0m\u001b[0m\n",
      "\u001b[0;32m~/anaconda3/lib/python3.9/socket.py\u001b[0m in \u001b[0;36mreadinto\u001b[0;34m(self, b)\u001b[0m\n\u001b[1;32m    702\u001b[0m         \u001b[0;32mwhile\u001b[0m \u001b[0;32mTrue\u001b[0m\u001b[0;34m:\u001b[0m\u001b[0;34m\u001b[0m\u001b[0;34m\u001b[0m\u001b[0m\n\u001b[1;32m    703\u001b[0m             \u001b[0;32mtry\u001b[0m\u001b[0;34m:\u001b[0m\u001b[0;34m\u001b[0m\u001b[0;34m\u001b[0m\u001b[0m\n\u001b[0;32m--> 704\u001b[0;31m                 \u001b[0;32mreturn\u001b[0m \u001b[0mself\u001b[0m\u001b[0;34m.\u001b[0m\u001b[0m_sock\u001b[0m\u001b[0;34m.\u001b[0m\u001b[0mrecv_into\u001b[0m\u001b[0;34m(\u001b[0m\u001b[0mb\u001b[0m\u001b[0;34m)\u001b[0m\u001b[0;34m\u001b[0m\u001b[0;34m\u001b[0m\u001b[0m\n\u001b[0m\u001b[1;32m    705\u001b[0m             \u001b[0;32mexcept\u001b[0m \u001b[0mtimeout\u001b[0m\u001b[0;34m:\u001b[0m\u001b[0;34m\u001b[0m\u001b[0;34m\u001b[0m\u001b[0m\n\u001b[1;32m    706\u001b[0m                 \u001b[0mself\u001b[0m\u001b[0;34m.\u001b[0m\u001b[0m_timeout_occurred\u001b[0m \u001b[0;34m=\u001b[0m \u001b[0;32mTrue\u001b[0m\u001b[0;34m\u001b[0m\u001b[0;34m\u001b[0m\u001b[0m\n",
      "\u001b[0;31mKeyboardInterrupt\u001b[0m: "
     ]
    }
   ],
   "source": [
    "hashtags_count_location = hashtags_location.writeStream.trigger(processingTime='5 seconds')\\\n",
    ".outputMode('update')\\\n",
    "    .option(\"truncate\", \"false\")\\\n",
    "        .option(\"checkpointLocation\", \"./hastags_count_location\")\\\n",
    "            .format(\"console\")\\\n",
    "                .start()\n",
    "\n",
    "hashtags_count_location.awaitTermination()"
   ]
  },
  {
   "cell_type": "code",
   "execution_count": null,
   "id": "fd2c16f4",
   "metadata": {},
   "outputs": [],
   "source": []
  }
 ],
 "metadata": {
  "kernelspec": {
   "display_name": "Python 3 (ipykernel)",
   "language": "python",
   "name": "python3"
  },
  "language_info": {
   "codemirror_mode": {
    "name": "ipython",
    "version": 3
   },
   "file_extension": ".py",
   "mimetype": "text/x-python",
   "name": "python",
   "nbconvert_exporter": "python",
   "pygments_lexer": "ipython3",
   "version": "3.9.7"
  }
 },
 "nbformat": 4,
 "nbformat_minor": 5
}
